{
 "cells": [
  {
   "cell_type": "code",
   "execution_count": 1,
   "metadata": {},
   "outputs": [
    {
     "name": "stdout",
     "output_type": "stream",
     "text": [
      "20 thumbnail images saved for 'underbench oven' in thumbnails\\underbench oven\n",
      "20 thumbnail images saved for 'kitchen exhaust' in thumbnails\\kitchen exhaust\n",
      "20 thumbnail images saved for 'kitchen island' in thumbnails\\kitchen island\n",
      "20 thumbnail images saved for 'double sink' in thumbnails\\double sink\n"
     ]
    }
   ],
   "source": [
    "import os\n",
    "import requests\n",
    "from bs4 import BeautifulSoup\n",
    "from PIL import Image\n",
    "from urllib.parse import urljoin\n",
    "from io import BytesIO\n",
    "\n",
    "\n",
    "def save_google_images(search_terms, num_images, save_folder):\n",
    "    # Create the save folder if it doesn't exist\n",
    "    os.makedirs(save_folder, exist_ok=True)\n",
    "\n",
    "    for search_term in search_terms:\n",
    "        # Create a folder for the current search term\n",
    "        search_folder = os.path.join(save_folder, search_term)\n",
    "        os.makedirs(search_folder, exist_ok=True)\n",
    "\n",
    "        # Prepare the search URL\n",
    "        search_url = f\"https://www.google.com/search?q={search_term}&tbm=isch\"\n",
    "\n",
    "        # Send a GET request to the search URL\n",
    "        response = requests.get(search_url)\n",
    "        response.raise_for_status()\n",
    "\n",
    "        # Parse the response content with BeautifulSoup\n",
    "        soup = BeautifulSoup(response.text, 'html.parser')\n",
    "\n",
    "        # Find all image elements on the page\n",
    "        image_elements = soup.find_all('img')\n",
    "\n",
    "        # Iterate over the image elements and save the thumbnails\n",
    "        count = 0\n",
    "        for img in image_elements:\n",
    "            # Get the thumbnail URL\n",
    "            thumbnail_url = img['src']\n",
    "            if thumbnail_url.startswith('/'):\n",
    "                # Handle relative URLs by joining with the base URL\n",
    "                thumbnail_url = urljoin(search_url, thumbnail_url)\n",
    "\n",
    "            # Send a GET request to the thumbnail URL\n",
    "            thumbnail_response = requests.get(thumbnail_url)\n",
    "            thumbnail_response.raise_for_status()\n",
    "\n",
    "            # Open the thumbnail image with PIL\n",
    "            image = Image.open(BytesIO(thumbnail_response.content))\n",
    "\n",
    "            # Convert the image to RGB mode\n",
    "            image = image.convert(\"RGB\")\n",
    "\n",
    "            # Resize the image to the desired size\n",
    "            image = image.resize((150, 150))\n",
    "\n",
    "            # Save the resized image in the search term folder\n",
    "            filename = f\"{search_folder}/{search_term}_{count}.jpg\"\n",
    "            image.save(filename)\n",
    "\n",
    "            count += 1\n",
    "            if count == num_images:\n",
    "                break\n",
    "\n",
    "        print(f\"{count} thumbnail images saved for '{search_term}' in {search_folder}\")\n",
    "\n",
    "\n",
    "# Example usage\n",
    "search_terms = [\"underbench oven\", \"kitchen exhaust\", \"kitchen island\", \"double sink\"]\n",
    "num_images = 20\n",
    "save_folder = \"thumbnails\"\n",
    "\n",
    "save_google_images(search_terms, num_images, save_folder)\n",
    "\n"
   ]
  }
 ],
 "metadata": {
  "kernelspec": {
   "display_name": "base",
   "language": "python",
   "name": "python3"
  },
  "language_info": {
   "codemirror_mode": {
    "name": "ipython",
    "version": 3
   },
   "file_extension": ".py",
   "mimetype": "text/x-python",
   "name": "python",
   "nbconvert_exporter": "python",
   "pygments_lexer": "ipython3",
   "version": "3.8.8"
  },
  "orig_nbformat": 4
 },
 "nbformat": 4,
 "nbformat_minor": 2
}
