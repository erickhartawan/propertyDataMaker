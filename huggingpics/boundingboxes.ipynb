{
 "cells": [
  {
   "cell_type": "code",
   "execution_count": 1,
   "metadata": {},
   "outputs": [
    {
     "name": "stderr",
     "output_type": "stream",
     "text": [
      "p:\\Anaconda\\lib\\site-packages\\numpy\\_distributor_init.py:30: UserWarning: loaded more than 1 DLL from .libs:\n",
      "p:\\Anaconda\\lib\\site-packages\\numpy\\.libs\\libopenblas.EL2C6PLE4ZYW3ECEVIV3OXXGRN2NRFM2.gfortran-win_amd64.dll\n",
      "p:\\Anaconda\\lib\\site-packages\\numpy\\.libs\\libopenblas.XWYDX2IKJW2NMTWSFYNGFUWKQU3LYTCZ.gfortran-win_amd64.dll\n",
      "  warnings.warn(\"loaded more than 1 DLL from .libs:\"\n"
     ]
    }
   ],
   "source": [
    "import os\n",
    "import cv2\n",
    "\n",
    "# Path to the folder containing the input images\n",
    "input_folder_path = \"./images/ceiling fan/\"\n",
    "\n",
    "# Path to the folder where the output images will be saved\n",
    "output_folder_path = \"./out\"\n",
    "\n",
    "# Create the output folder if it doesn't exist\n",
    "if not os.path.exists(output_folder_path):\n",
    "    os.makedirs(output_folder_path)\n",
    "\n",
    "# Iterate over the files in the input folder\n",
    "for filename in os.listdir(input_folder_path):\n",
    "    if filename.endswith(\".jpg\") or filename.endswith(\".png\"):  # Update file extensions as needed\n",
    "        # Load the input image\n",
    "        image_path = os.path.join(input_folder_path, filename)\n",
    "        image = cv2.imread(image_path)\n",
    "\n",
    "        # Create a copy of the image to draw the bounding box\n",
    "        annotated_image = image.copy()\n",
    "\n",
    "        # Create a window and display the image\n",
    "        cv2.namedWindow(\"Image\")\n",
    "        cv2.imshow(\"Image\", annotated_image)\n",
    "\n",
    "        # Create variables to store the coordinates of the bounding box\n",
    "        bbox_start = None\n",
    "        bbox_end = None\n",
    "        drawing = False\n",
    "\n",
    "        # Mouse callback function to draw the bounding box\n",
    "        def draw_bbox(event, x, y, flags, param):\n",
    "            global bbox_start, bbox_end, drawing\n",
    "\n",
    "            if event == cv2.EVENT_LBUTTONDOWN:\n",
    "                bbox_start = (x, y)\n",
    "                drawing = True\n",
    "            elif event == cv2.EVENT_LBUTTONUP:\n",
    "                bbox_end = (x, y)\n",
    "                drawing = False\n",
    "                cv2.rectangle(annotated_image, bbox_start, bbox_end, (0, 0, 255), 2)\n",
    "                cv2.imshow(\"Image\", annotated_image)\n",
    "\n",
    "        # Set the callback function for mouse events\n",
    "        cv2.setMouseCallback(\"Image\", draw_bbox)\n",
    "\n",
    "        # Wait for the user to draw the bounding box and press 'Enter' to continue\n",
    "        while True:\n",
    "            key = cv2.waitKey(1) & 0xFF\n",
    "            if key == 13:  # 'Enter' key\n",
    "                break\n",
    "\n",
    "        # Save the annotated image with the bounding box to the output folder\n",
    "        output_image_path = os.path.join(output_folder_path, filename)\n",
    "        cv2.imwrite(output_image_path, annotated_image)\n",
    "\n",
    "        # Close the window\n",
    "        cv2.destroyAllWindows()"
   ]
  }
 ],
 "metadata": {
  "kernelspec": {
   "display_name": "base",
   "language": "python",
   "name": "python3"
  },
  "language_info": {
   "codemirror_mode": {
    "name": "ipython",
    "version": 3
   },
   "file_extension": ".py",
   "mimetype": "text/x-python",
   "name": "python",
   "nbconvert_exporter": "python",
   "pygments_lexer": "ipython3",
   "version": "3.8.8"
  },
  "orig_nbformat": 4
 },
 "nbformat": 4,
 "nbformat_minor": 2
}
